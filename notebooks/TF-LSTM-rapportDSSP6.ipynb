{
 "cells": [
  {
   "cell_type": "code",
   "execution_count": null,
   "metadata": {
    "collapsed": true
   },
   "outputs": [],
   "source": [
    "##Avec tensorflow\n",
    "\n",
    "\n",
    "import tensorflow as tf\n",
    "\n",
    "tf.reset_default_graph()\n",
    "\n",
    "inputs=1\n",
    "output=1\n",
    "hidden=100\n",
    "\n",
    "X = tf.placeholder(tf.float32, [None, n_lag, inputs])\n",
    "Y = tf.placeholder(tf.float32, [None, n_lag, output])\n",
    "\n",
    "b_cell = tf.contrib.rnn.BasicRNNCell(num_units=hidden,activation=tf.nn.relu)\n",
    "rnn_output, states = tf.nn.dynamic_rnn(b_cell, X, dtype=tf.float32)\n",
    "\n",
    "learning_rate = 0.0001\n",
    "\n",
    "stacked_rnn_output = tf.reshape(rnn_output, [-1,hidden])\n",
    "stacked_output = tf.layers.dense(stacked_rnn_output, output)\n",
    "outputs = tf.reshape(stacked_output, [-1,n_lag,output])\n",
    "\n",
    "loss = tf.reduce_sum(tf.square(outputs-Y))\n",
    "optimizer = tf.train.AdamOptimizer(learning_rate=learning_rate)\n",
    "training_op = optimizer.minimize(loss)\n",
    "\n",
    "init = tf.global_variables_initializer()"
   ]
  },
  {
   "cell_type": "code",
   "execution_count": null,
   "metadata": {
    "collapsed": true
   },
   "outputs": [],
   "source": [
    "TS = np.array(DSvol.y)\n",
    "horizon = 1 #Equvau window_size-n_lag  de KERAS\n",
    "\n",
    "x_data = TS[:(len(TS)-(len(TS) % n_lag))]\n",
    "x_batches = x_data.reshape(-1, n_lag, output)\n",
    "\n",
    "y_data = TS[1:(len(TS)-(len(TS) % n_lag))+horizon]\n",
    "y_batches = y_data.reshape(-1, n_lag, output)\n",
    "\n"
   ]
  },
  {
   "cell_type": "code",
   "execution_count": null,
   "metadata": {
    "collapsed": true
   },
   "outputs": [],
   "source": [
    "def test_data(series, forecast, n_lag):\n",
    "    test_x_setup = TS[-(n_lag + forecast):]\n",
    "    testX = test_x_setup[:n_lag].reshape(-1, n_lag, output)\n",
    "    testY = TS[-(n_lag):].reshape(-1, n_lag, output)\n",
    "    return testX, testY\n",
    "\n",
    "X_test, Y_test = test_data(TS, horizon, n_lag)"
   ]
  },
  {
   "cell_type": "code",
   "execution_count": null,
   "metadata": {
    "collapsed": true
   },
   "outputs": [],
   "source": [
    "epo = 2000\n",
    "\n",
    "with tf.Session() as sess:\n",
    "    init.run()\n",
    "    for ep in range(epo):\n",
    "        sess.run(training_op, feed_dict={X: x_batches, Y: y_batches})\n",
    "        if ep % 100 == 0:\n",
    "            mse = loss.eval(feed_dict={X: x_batches, Y: y_batches})\n",
    "            print(ep, \"\\tMSE:\", mse)\n",
    "            \n",
    "    y_pred = sess.run(outputs, feed_dict={X: X_test})\n",
    "    print(y_pred)"
   ]
  },
  {
   "cell_type": "code",
   "execution_count": null,
   "metadata": {
    "collapsed": true
   },
   "outputs": [],
   "source": [
    "plt.figure(figsize=(20,5))\n",
    "plt.title(\"Forecast vs Actual\", fontsize=14)\n",
    "plt.plot(pd.Series(np.ravel(Y_test)), label=\"Actual\")\n",
    "plt.plot(pd.Series(np.ravel(y_pred)), label=\"Forecast\")\n",
    "plt.legend(loc=\"upper left\")\n",
    "plt.xlabel(\"Time Periods\")\n",
    "plt.show()"
   ]
  }
 ],
 "metadata": {
  "kernelspec": {
   "display_name": "Python 3",
   "language": "python",
   "name": "python3"
  },
  "language_info": {
   "codemirror_mode": {
    "name": "ipython",
    "version": 3
   },
   "file_extension": ".py",
   "mimetype": "text/x-python",
   "name": "python",
   "nbconvert_exporter": "python",
   "pygments_lexer": "ipython3",
   "version": "3.6.0"
  }
 },
 "nbformat": 4,
 "nbformat_minor": 2
}
